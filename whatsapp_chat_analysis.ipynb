{
 "cells": [
  {
   "cell_type": "markdown",
   "metadata": {},
   "source": [
    "# Firstly import all python libraries required.   "
   ]
  },
  {
   "cell_type": "code",
   "execution_count": 25,
   "metadata": {},
   "outputs": [],
   "source": [
    "import os\n",
    "import re\n",
    "import pandas as pd \n",
    "import numpy as np"
   ]
  },
  {
   "attachments": {},
   "cell_type": "markdown",
   "metadata": {},
   "source": [
    "# then export the chat(which you want to analyze) from whatsapp in .txt format and give it's path."
   ]
  },
  {
   "attachments": {},
   "cell_type": "markdown",
   "metadata": {},
   "source": [
    "How to export chat youtube link--->> https://www.youtube.com/watch?v=Iq52RMQlvDo"
   ]
  },
  {
   "cell_type": "code",
   "execution_count": 5,
   "metadata": {},
   "outputs": [],
   "source": [
    "whatsapp_file=\"C:/Users/hp/Desktop/uditchat.txt\""
   ]
  },
  {
   "cell_type": "markdown",
   "metadata": {},
   "source": [
    "# reading of .txt file is done here."
   ]
  },
  {
   "cell_type": "code",
   "execution_count": 6,
   "metadata": {},
   "outputs": [],
   "source": [
    "if os.path.exists(whatsapp_file):\n",
    "\tfile_data=open(whatsapp_file,\"r\",encoding=\"utf8\")\n",
    "\twhatsapp_data=file_data.read()"
   ]
  },
  {
   "cell_type": "markdown",
   "metadata": {},
   "source": [
    "# For learning about regular expression visit   https://docs.python.org/3/howto/regex.html "
   ]
  },
  {
   "cell_type": "markdown",
   "metadata": {},
   "source": [
    "# Now we will extract date from the .txt file using regular expression"
   ]
  },
  {
   "cell_type": "code",
   "execution_count": 7,
   "metadata": {},
   "outputs": [],
   "source": [
    "date_regex=re.compile(r'(\\d+/\\d+/\\d+)')\n",
    "date=date_regex.findall(whatsapp_data)"
   ]
  },
  {
   "cell_type": "markdown",
   "metadata": {},
   "source": [
    "# Now we will extract time from the .txt file using regular expression"
   ]
  },
  {
   "cell_type": "code",
   "execution_count": 8,
   "metadata": {},
   "outputs": [],
   "source": [
    "time_regex=re.compile(r'(\\d{1,2}:\\d{2} am|pm )') #here {1,2} means we can have one digit or two digit number here,{2} means only two digit number.\n",
    "time=time_regex.findall(whatsapp_data)"
   ]
  },
  {
   "cell_type": "markdown",
   "metadata": {},
   "source": [
    "# Now we will extract user name from the .txt file using regular expression"
   ]
  },
  {
   "cell_type": "code",
   "execution_count": 9,
   "metadata": {},
   "outputs": [],
   "source": [
    "user_regex=re.compile(r'-(.*?):')\n",
    "user=user_regex.findall(whatsapp_data)"
   ]
  },
  {
   "cell_type": "markdown",
   "metadata": {},
   "source": [
    "# Now we will extract chat from the .txt file using regular expression"
   ]
  },
  {
   "cell_type": "code",
   "execution_count": 10,
   "metadata": {},
   "outputs": [],
   "source": [
    "message_regex=re.compile(r'([^:]+):?$')\n",
    "mess_regex=re.compile(r'(\\n)(?<=)(\\d+/\\d+/\\d+)(.*)')\n",
    "ms=mess_regex.findall(whatsapp_data)\n",
    "message=[''.join(message_regex.findall(''.join(msg))).strip() for msg in ms]"
   ]
  },
  {
   "cell_type": "markdown",
   "metadata": {},
   "source": [
    "# Now we will be taking all above information extracted and append in format we have whatsapp chat"
   ]
  },
  {
   "cell_type": "code",
   "execution_count": 11,
   "metadata": {},
   "outputs": [],
   "source": [
    "data=[]\n",
    "for d,t,u,m in zip(date,time,user,message):   \n",
    "\tdata.append([str(d),str(t),str(u),str(m)])"
   ]
  },
  {
   "cell_type": "markdown",
   "metadata": {},
   "source": [
    "# Now we will create a dataframe in same format as our whatsapp chat is."
   ]
  },
  {
   "cell_type": "code",
   "execution_count": 12,
   "metadata": {},
   "outputs": [],
   "source": [
    "df=pd.DataFrame(data,columns=(\"Date\",\"Time\",\"User\",\"Message\"))"
   ]
  },
  {
   "cell_type": "markdown",
   "metadata": {},
   "source": [
    "# here in this step we will be cleaning out the messages."
   ]
  },
  {
   "cell_type": "code",
   "execution_count": 13,
   "metadata": {},
   "outputs": [],
   "source": [
    "df[\"Message\"]=df[\"Message\"].str.replace('\\'(.*?): ','')"
   ]
  },
  {
   "cell_type": "code",
   "execution_count": 14,
   "metadata": {},
   "outputs": [],
   "source": [
    "df[\"Date\"]=pd.to_datetime(df[\"Date\"])  "
   ]
  },
  {
   "cell_type": "markdown",
   "metadata": {},
   "source": [
    "# Getting year from date "
   ]
  },
  {
   "cell_type": "code",
   "execution_count": 15,
   "metadata": {},
   "outputs": [],
   "source": [
    "df[\"Year\"]=df[\"Date\"].dt.year "
   ]
  },
  {
   "cell_type": "markdown",
   "metadata": {},
   "source": [
    "# Getting month from date"
   ]
  },
  {
   "cell_type": "code",
   "execution_count": 16,
   "metadata": {},
   "outputs": [],
   "source": [
    "df[\"Month\"]=df[\"Date\"].dt.month "
   ]
  },
  {
   "cell_type": "markdown",
   "metadata": {},
   "source": [
    "# Getting day from date"
   ]
  },
  {
   "cell_type": "code",
   "execution_count": 17,
   "metadata": {},
   "outputs": [],
   "source": [
    "df[\"Day\"]=df[\"Date\"].dt.day"
   ]
  },
  {
   "cell_type": "markdown",
   "metadata": {},
   "source": [
    "# extracting words from message"
   ]
  },
  {
   "cell_type": "code",
   "execution_count": 18,
   "metadata": {},
   "outputs": [],
   "source": [
    "df[\"Words\"]=df[\"Message\"].str.strip().str.split('[\\W_]+') "
   ]
  },
  {
   "cell_type": "markdown",
   "metadata": {},
   "source": [
    "# getting word length from words"
   ]
  },
  {
   "cell_type": "code",
   "execution_count": 19,
   "metadata": {},
   "outputs": [],
   "source": [
    "df[\"Word Length\"]=df[\"Words\"].apply(len)-2 "
   ]
  },
  {
   "cell_type": "markdown",
   "metadata": {},
   "source": [
    "# getting whole message length from message"
   ]
  },
  {
   "cell_type": "code",
   "execution_count": 20,
   "metadata": {},
   "outputs": [],
   "source": [
    "df[\"Message Length\"]=df[\"Message\"].map(str).apply(len)-3 "
   ]
  },
  {
   "cell_type": "markdown",
   "metadata": {},
   "source": [
    "# getting any media file if exist in message"
   ]
  },
  {
   "cell_type": "code",
   "execution_count": 21,
   "metadata": {},
   "outputs": [],
   "source": [
    "df[\"Media\"]=df[\"Message\"].str.contains(\"<Media omited>\")"
   ]
  },
  {
   "cell_type": "markdown",
   "metadata": {},
   "source": [
    "# one of the most important step to create a csv file from the data you extracted"
   ]
  },
  {
   "cell_type": "code",
   "execution_count": 22,
   "metadata": {},
   "outputs": [],
   "source": [
    "df.to_csv(\"whatsappchat.csv\")"
   ]
  },
  {
   "cell_type": "code",
   "execution_count": 23,
   "metadata": {},
   "outputs": [
    {
     "name": "stdout",
     "output_type": "stream",
     "text": [
      "        Date Time               User  \\\n",
      "0 2018-03-04  pm           Udit Ipec   \n",
      "1 2018-03-04  pm    Nainish Aggarwal   \n",
      "2 2018-03-04  pm           Udit Ipec   \n",
      "3 2018-03-04  pm    Nainish Aggarwal   \n",
      "4 2018-03-04  pm           Udit Ipec   \n",
      "\n",
      "                                    Message  Year  Month  Day  \\\n",
      "0                              Kl jana h..?  2018      3    4   \n",
      "1                                 Pata. Nhi  2018      3    4   \n",
      "2                                 Tu jaega?  2018      3    4   \n",
      "3  Han bhai koi information hai nhi kal. Ki  2018      3    4   \n",
      "4                                        Oi  2018      3    4   \n",
      "\n",
      "                                              Words  Word Length  \\\n",
      "0                                   [Kl, jana, h, ]            2   \n",
      "1                                       [Pata, Nhi]            0   \n",
      "2                                     [Tu, jaega, ]            1   \n",
      "3  [Han, bhai, koi, information, hai, nhi, kal, Ki]            6   \n",
      "4                                              [Oi]           -1   \n",
      "\n",
      "   Message Length  Media  \n",
      "0               9  False  \n",
      "1               6  False  \n",
      "2               6  False  \n",
      "3              37  False  \n",
      "4              -1  False  \n"
     ]
    }
   ],
   "source": [
    "print(df.head()) # df.head() will give us the table of containing all columns and first 5 rows."
   ]
  },
  {
   "cell_type": "code",
   "execution_count": 24,
   "metadata": {},
   "outputs": [
    {
     "name": "stdout",
     "output_type": "stream",
     "text": [
      "3609\n"
     ]
    }
   ],
   "source": [
    "print(df.shape[0])"
   ]
  },
  {
   "cell_type": "code",
   "execution_count": 30,
   "metadata": {},
   "outputs": [
    {
     "name": "stdout",
     "output_type": "stream",
     "text": [
      "              Year        Month          Day  Word Length  Message Length\n",
      "count  3609.000000  3609.000000  3609.000000  3609.000000     3609.000000\n",
      "mean   2018.794126     4.903851    13.709061     1.879468       13.657246\n",
      "std       0.404395     3.345233     8.755969     3.332239       16.806425\n",
      "min    2018.000000     1.000000     1.000000    -1.000000       -2.000000\n",
      "25%    2019.000000     3.000000     5.000000     0.000000        1.000000\n",
      "50%    2019.000000     4.000000    17.000000     1.000000       10.000000\n",
      "75%    2019.000000     7.000000    20.000000     3.000000       20.000000\n",
      "max    2019.000000    12.000000    31.000000    36.000000      185.000000\n"
     ]
    }
   ],
   "source": [
    "print(df.describe())"
   ]
  },
  {
   "cell_type": "code",
   "execution_count": 32,
   "metadata": {},
   "outputs": [
    {
     "name": "stdout",
     "output_type": "stream",
     "text": [
      "Index(['Date', 'Time', 'User', 'Message', 'Year', 'Month', 'Day', 'Words',\n",
      "       'Word Length', 'Message Length', 'Media'],\n",
      "      dtype='object')\n"
     ]
    }
   ],
   "source": [
    "print(df.columns)"
   ]
  },
  {
   "cell_type": "code",
   "execution_count": 34,
   "metadata": {},
   "outputs": [
    {
     "name": "stdout",
     "output_type": "stream",
     "text": [
      "Date\n",
      "2018-01-05      7\n",
      "2018-01-11     12\n",
      "2018-01-12      2\n",
      "2018-02-11      2\n",
      "2018-03-04      7\n",
      "2018-03-11      4\n",
      "2018-04-14     25\n",
      "2018-04-17      9\n",
      "2018-04-18     20\n",
      "2018-04-19     43\n",
      "2018-04-22      1\n",
      "2018-04-26      9\n",
      "2018-04-30      2\n",
      "2018-05-04      4\n",
      "2018-05-11      9\n",
      "2018-05-13     18\n",
      "2018-05-14      1\n",
      "2018-05-16      1\n",
      "2018-06-05     20\n",
      "2018-06-11      9\n",
      "2018-07-05      5\n",
      "2018-07-11      7\n",
      "2018-07-12     26\n",
      "2018-08-04      1\n",
      "2018-08-05     10\n",
      "2018-08-12     32\n",
      "2018-09-05     15\n",
      "2018-09-12      4\n",
      "2018-10-05      9\n",
      "2018-10-11     10\n",
      "             ... \n",
      "2019-04-17     44\n",
      "2019-04-19    224\n",
      "2019-04-20     11\n",
      "2019-04-21     48\n",
      "2019-04-22     20\n",
      "2019-04-24     11\n",
      "2019-04-25      2\n",
      "2019-04-26     20\n",
      "2019-04-29      6\n",
      "2019-05-03      6\n",
      "2019-05-04      8\n",
      "2019-06-03     51\n",
      "2019-06-04     89\n",
      "2019-07-01    103\n",
      "2019-07-04     17\n",
      "2019-08-01     48\n",
      "2019-08-03      1\n",
      "2019-08-04     25\n",
      "2019-09-01     22\n",
      "2019-09-02     69\n",
      "2019-09-04      1\n",
      "2019-10-01     21\n",
      "2019-10-02      8\n",
      "2019-10-03     28\n",
      "2019-10-04      1\n",
      "2019-11-02      5\n",
      "2019-11-03      9\n",
      "2019-11-04     30\n",
      "2019-12-03      2\n",
      "2019-12-04     61\n",
      "Name: Date, Length: 128, dtype: int64\n"
     ]
    }
   ],
   "source": [
    "dates_summary=df.groupby(\"Date\")[\"Date\"].count()\n",
    "print(dates_summary)"
   ]
  },
  {
   "cell_type": "code",
   "execution_count": 35,
   "metadata": {},
   "outputs": [
    {
     "name": "stdout",
     "output_type": "stream",
     "text": [
      "User\n",
      " Nainish Aggarwal    1974\n",
      " Udit Ipec           1635\n",
      "Name: User, dtype: int64\n"
     ]
    }
   ],
   "source": [
    "user_summary=df.groupby(\"User\")[\"User\"].count()\n",
    "print(user_summary)"
   ]
  },
  {
   "cell_type": "code",
   "execution_count": 37,
   "metadata": {},
   "outputs": [
    {
     "name": "stdout",
     "output_type": "stream",
     "text": [
      "User\n",
      " Nainish Aggarwal    1974\n",
      " Udit Ipec           1635\n",
      "Name: Message, dtype: int64\n"
     ]
    }
   ],
   "source": [
    "message_summary=df.groupby(\"User\")[\"Message\"].count()\n",
    "print(message_summary)"
   ]
  },
  {
   "cell_type": "code",
   "execution_count": 38,
   "metadata": {},
   "outputs": [
    {
     "name": "stdout",
     "output_type": "stream",
     "text": [
      "Year\n",
      "2018     743\n",
      "2019    2866\n",
      "Name: Year, dtype: int64\n"
     ]
    }
   ],
   "source": [
    "year_summary=df.groupby(\"Year\")[\"Year\"].count()\n",
    "print(year_summary)"
   ]
  },
  {
   "cell_type": "code",
   "execution_count": 11,
   "metadata": {},
   "outputs": [
    {
     "name": "stdout",
     "output_type": "stream",
     "text": [
      "Month\n",
      "1     292\n",
      "2     584\n",
      "3     856\n",
      "4     672\n",
      "5      47\n",
      "6     169\n",
      "7     158\n",
      "8     117\n",
      "9     111\n",
      "10    140\n",
      "11    264\n",
      "12    199\n",
      "Name: Month, dtype: int64\n"
     ]
    }
   ],
   "source": [
    "month_summary=df.groupby(\"Month\")[\"Month\"].count()\n",
    "print(month_summary)"
   ]
  },
  {
   "cell_type": "code",
   "execution_count": 26,
   "metadata": {},
   "outputs": [
    {
     "name": "stdout",
     "output_type": "stream",
     "text": [
      "Year  Month\n",
      "2018  1         21\n",
      "      2          2\n",
      "      3         11\n",
      "      4        109\n",
      "      5         33\n",
      "      6         29\n",
      "      7         38\n",
      "      8         43\n",
      "      9         19\n",
      "      10        82\n",
      "      11       220\n",
      "      12       136\n",
      "2019  1        271\n",
      "      2        582\n",
      "      3        845\n",
      "      4        563\n",
      "      5         14\n",
      "      6        140\n",
      "      7        120\n",
      "      8         74\n",
      "      9         92\n",
      "      10        58\n",
      "      11        44\n",
      "      12        63\n",
      "Name: Month, dtype: int64\n"
     ]
    }
   ],
   "source": [
    "year_month=df.groupby(['Year','Month'])['Month'].count()\n",
    "print(year_month)"
   ]
  },
  {
   "cell_type": "code",
   "execution_count": 27,
   "metadata": {},
   "outputs": [
    {
     "name": "stdout",
     "output_type": "stream",
     "text": [
      "Year  Day\n",
      "2018  4       12\n",
      "      5       66\n",
      "      11      57\n",
      "      12      65\n",
      "      13      28\n",
      "      14      75\n",
      "      15      11\n",
      "      16      16\n",
      "      17       9\n",
      "      18      20\n",
      "      19      51\n",
      "      22       1\n",
      "      24      47\n",
      "      25       9\n",
      "      26      33\n",
      "      27      28\n",
      "      28     104\n",
      "      29      20\n",
      "      30      41\n",
      "      31      50\n",
      "2019  1      220\n",
      "      2       82\n",
      "      3      224\n",
      "      4      361\n",
      "      5      399\n",
      "      13      57\n",
      "      14      33\n",
      "      15      71\n",
      "      16      27\n",
      "      17      50\n",
      "      18     289\n",
      "      19     366\n",
      "      20     219\n",
      "      21     195\n",
      "      22     151\n",
      "      23       6\n",
      "      24      37\n",
      "      25      12\n",
      "      26      53\n",
      "      27       1\n",
      "      29       6\n",
      "      30       7\n",
      "Name: Day, dtype: int64\n"
     ]
    }
   ],
   "source": [
    "year_day=df.groupby(['Year','Day'])['Day'].count()\n",
    "print(year_day)"
   ]
  },
  {
   "cell_type": "code",
   "execution_count": 29,
   "metadata": {},
   "outputs": [
    {
     "name": "stdout",
     "output_type": "stream",
     "text": [
      "User\n",
      " Nainish Aggarwal    27578\n",
      " Udit Ipec           21644\n",
      "Name: Message Length, dtype: int64\n"
     ]
    }
   ],
   "source": [
    "char_length=df.groupby(['User'])['Message Length'].sum()\n",
    "print(char_length)"
   ]
  },
  {
   "cell_type": "code",
   "execution_count": 30,
   "metadata": {},
   "outputs": [
    {
     "name": "stdout",
     "output_type": "stream",
     "text": [
      "User\n",
      " Nainish Aggarwal    3738\n",
      " Udit Ipec           3032\n",
      "Name: Word Length, dtype: int64\n"
     ]
    }
   ],
   "source": [
    "word_length=df.groupby(['User'])['Word Length'].sum()\n",
    "print(word_length)"
   ]
  },
  {
   "cell_type": "code",
   "execution_count": 31,
   "metadata": {},
   "outputs": [
    {
     "name": "stdout",
     "output_type": "stream",
     "text": [
      "Media\n",
      "False    False\n",
      "Name: Media, dtype: bool\n"
     ]
    }
   ],
   "source": [
    "media=df.groupby(['Media'])['Media'].sum()\n",
    "print(media)"
   ]
  },
  {
   "cell_type": "code",
   "execution_count": 32,
   "metadata": {},
   "outputs": [
    {
     "name": "stdout",
     "output_type": "stream",
     "text": [
      "Series([], Name: Media, dtype: int64)\n"
     ]
    }
   ],
   "source": [
    "media_df=df[df['Media']==True]\n",
    "media_per_user=media_df.groupby(['User','Media'])['Media'].count()\n",
    "print(media_per_user)"
   ]
  },
  {
   "cell_type": "markdown",
   "metadata": {},
   "source": [
    "# Visualization Phase"
   ]
  },
  {
   "cell_type": "markdown",
   "metadata": {},
   "source": [
    "# No. of users with there message count is shown using bar graph"
   ]
  },
  {
   "cell_type": "code",
   "execution_count": 52,
   "metadata": {},
   "outputs": [
    {
     "data": {
      "image/png": "[encoded data removed]",
      "text/plain": [
       "<matplotlib.figure.Figure at 0x1b8510c46d8>"
      ]
     },
     "metadata": {},
     "output_type": "display_data"
    }
   ],
   "source": [
    "%matplotlib inline\n",
    "import matplotlib.pyplot as plt\n",
    " \n",
    "plt.grid()    \n",
    "users=df.groupby('User')['User'].count().nlargest(15) #nlargest(n) is used to get largest n data\n",
    "\n",
    "a=users.plot(kind=\"bar\",color=[\"r\",\"y\"])\n",
    "a.set_title(\"WhatsApp Users with Message Count\", fontsize=15)\n",
    "a.set_xlabel(\"Users\", fontsize=10)\n",
    "a.set_ylabel(\"Messages\", fontsize=10)\n",
    "plt.show()"
   ]
  },
  {
   "cell_type": "markdown",
   "metadata": {},
   "source": [
    "# No. of users with there message count is shown using pie chart"
   ]
  },
  {
   "cell_type": "code",
   "execution_count": 43,
   "metadata": {},
   "outputs": [
    {
     "data": {
      "image/png": "[encoded data removed]",
      "text/plain": [
       "<matplotlib.figure.Figure at 0x1b8523b4240>"
      ]
     },
     "metadata": {},
     "output_type": "display_data"
    }
   ],
   "source": [
    "%matplotlib inline\n",
    "import matplotlib.pyplot as plt\n",
    "\n",
    "users=df.groupby('User')['User'].count()\n",
    "a=users.plot(kind=\"pie\",colors=[\"b\",\"g\"])\n",
    "plt.show()"
   ]
  },
  {
   "cell_type": "markdown",
   "metadata": {},
   "source": [
    "# Distribution of dates with user chats"
   ]
  },
  {
   "cell_type": "code",
   "execution_count": 53,
   "metadata": {},
   "outputs": [
    {
     "data": {
      "image/png": "[encoded data removed]",
      "text/plain": [
       "<matplotlib.figure.Figure at 0x1b852653ba8>"
      ]
     },
     "metadata": {},
     "output_type": "display_data"
    }
   ],
   "source": [
    "%matplotlib inline\n",
    "import matplotlib.pyplot as plt\n",
    "plt.grid()\n",
    "\n",
    "dates_summary=df.groupby(\"Date\")[\"Date\"].count().nlargest(15)\n",
    "a=dates_summary.plot(kind='bar', color = [\"b\",\"r\"], fontsize=12)\n",
    "a.set_title(\"Distribution of Date with User Chats\\n\", fontsize=18)\n",
    "a.set_xlabel(\"Date\", fontsize=12)\n",
    "a.set_ylabel(\"Chats\", fontsize=12)\n",
    "plt.show()"
   ]
  },
  {
   "cell_type": "markdown",
   "metadata": {},
   "source": [
    "# Distribution of Date with User Chats using line graph"
   ]
  },
  {
   "cell_type": "code",
   "execution_count": 54,
   "metadata": {},
   "outputs": [
    {
     "data": {
      "image/png": "[encoded data removed]",
      "text/plain": [
       "<matplotlib.figure.Figure at 0x1b852565f28>"
      ]
     },
     "metadata": {},
     "output_type": "display_data"
    }
   ],
   "source": [
    "%matplotlib inline\n",
    "import matplotlib.pyplot as plt\n",
    "plt.grid()\n",
    "dates_summary=df.groupby(\"Date\")[\"Date\"].count().nlargest(15)\n",
    "a=dates_summary.plot(kind='line', color = [\"orange\"], fontsize=12)\n",
    "a.set_title(\"Distribution of Date with User Chats\\n\", fontsize=18)\n",
    "a.set_xlabel(\"Date\", fontsize=12)\n",
    "a.set_ylabel(\"Chats\", fontsize=12)\n",
    "plt.show()\n"
   ]
  },
  {
   "cell_type": "markdown",
   "metadata": {},
   "source": [
    "# Distribution of User With Word Count using bar graph"
   ]
  },
  {
   "cell_type": "code",
   "execution_count": 55,
   "metadata": {},
   "outputs": [
    {
     "data": {
      "image/png": "[encoded data removed]",
      "text/plain": [
       "<matplotlib.figure.Figure at 0x1b8510a5518>"
      ]
     },
     "metadata": {},
     "output_type": "display_data"
    }
   ],
   "source": [
    "import matplotlib.pyplot as plt\n",
    "\n",
    "word_length=df.groupby(['User'])['Word Length'].sum().nlargest(15)\n",
    "a=word_length.plot(kind=\"bar\",color=[\"orange\",\"brown\"])\n",
    "a.set_title(\"Distribution of User With Word Count\", fontsize=15)\n",
    "a.set_xlabel(\"Users\", fontsize=12)\n",
    "a.set_ylabel(\"Word Length\", fontsize=12)\n",
    "plt.show()\n"
   ]
  },
  {
   "cell_type": "markdown",
   "metadata": {},
   "source": [
    "# Active Months using bar graph"
   ]
  },
  {
   "cell_type": "code",
   "execution_count": 56,
   "metadata": {},
   "outputs": [
    {
     "data": {
      "image/png": "[encoded data removed]",
      "text/plain": [
       "<matplotlib.figure.Figure at 0x1b852406a58>"
      ]
     },
     "metadata": {},
     "output_type": "display_data"
    }
   ],
   "source": [
    "import matplotlib.pyplot as plt\n",
    "plt.grid()\n",
    "\n",
    "active_month=df.groupby(['Year','Month'])['Month'].count().nlargest(25)\n",
    "a=active_month.plot(kind=\"bar\",color=[\"lime\",\"cyan\"])\n",
    "a.set_title(\"Active Month\", fontsize=15)\n",
    "a.set_xlabel(\"Date\", fontsize=12)\n",
    "a.set_ylabel(\"Chats\", fontsize=12)\n",
    "plt.show()"
   ]
  },
  {
   "cell_type": "code",
   "execution_count": null,
   "metadata": {},
   "outputs": [],
   "source": []
  }
 ],
 "metadata": {
  "kernelspec": {
   "display_name": "Python 3",
   "language": "python",
   "name": "python3"
  },
  "language_info": {
   "codemirror_mode": {
    "name": "ipython",
    "version": 3
   },
   "file_extension": ".py",
   "mimetype": "text/x-python",
   "name": "python",
   "nbconvert_exporter": "python",
   "pygments_lexer": "ipython3",
   "version": "3.6.4"
  }
 },
 "nbformat": 4,
 "nbformat_minor": 2
}
